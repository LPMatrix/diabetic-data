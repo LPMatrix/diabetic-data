{
 "cells": [
  {
   "cell_type": "code",
   "execution_count": 1,
   "metadata": {},
   "outputs": [],
   "source": [
    "import glob\n",
    "import os"
   ]
  },
  {
   "cell_type": "code",
   "execution_count": 8,
   "metadata": {},
   "outputs": [],
   "source": [
    "directory = glob.glob(r\"DR\\Sev NPDR\\*.jpg\")\n",
    "\n",
    "start = 1358\n",
    "for filename in directory:\n",
    "    os.rename(filename, \"DR\\Sev NPDR\\\\\"+str(start)+\".jpg\")\n",
    "    start += 1"
   ]
  },
  {
   "cell_type": "code",
   "execution_count": 18,
   "metadata": {},
   "outputs": [
    {
     "name": "stdout",
     "output_type": "stream",
     "text": [
      "<class 'list'>\n"
     ]
    }
   ],
   "source": [
    "folder = \"DR/Sev NPDR\"\n",
    "images = glob.glob(folder+\"/*.jpg\")\n",
    "clean = []\n",
    "for i in images:\n",
    "    clean.append(i.split(\"\\\\\")[1])\n",
    "\n",
    "clean = [int(x.split('.')[0]) for x in clean]\n",
    "clean.sort()\n",
    "print(type(clean))\n",
    "clean = [str(x) + \".jpg\" for x in clean]"
   ]
  },
  {
   "cell_type": "code",
   "execution_count": 19,
   "metadata": {},
   "outputs": [],
   "source": [
    "data = list()\n",
    "for f in images:\n",
    "    data.append('Sev NPDR')"
   ]
  },
  {
   "cell_type": "code",
   "execution_count": 20,
   "metadata": {},
   "outputs": [],
   "source": [
    "import pandas as pd\n",
    "import numpy as np\n",
    "\n",
    "output = pd.DataFrame({'Image Name': clean, 'Retinopathy grade': data})\n",
    "output.to_csv('Sev NPDR.csv', index=False)"
   ]
  },
  {
   "cell_type": "code",
   "execution_count": 21,
   "metadata": {},
   "outputs": [
    {
     "data": {
      "text/html": [
       "<div>\n",
       "<style scoped>\n",
       "    .dataframe tbody tr th:only-of-type {\n",
       "        vertical-align: middle;\n",
       "    }\n",
       "\n",
       "    .dataframe tbody tr th {\n",
       "        vertical-align: top;\n",
       "    }\n",
       "\n",
       "    .dataframe thead th {\n",
       "        text-align: right;\n",
       "    }\n",
       "</style>\n",
       "<table border=\"1\" class=\"dataframe\">\n",
       "  <thead>\n",
       "    <tr style=\"text-align: right;\">\n",
       "      <th></th>\n",
       "      <th>Image Name</th>\n",
       "      <th>Retinopathy grade</th>\n",
       "    </tr>\n",
       "  </thead>\n",
       "  <tbody>\n",
       "    <tr>\n",
       "      <td>0</td>\n",
       "      <td>1358.jpg</td>\n",
       "      <td>Sev NPDR</td>\n",
       "    </tr>\n",
       "    <tr>\n",
       "      <td>1</td>\n",
       "      <td>1359.jpg</td>\n",
       "      <td>Sev NPDR</td>\n",
       "    </tr>\n",
       "    <tr>\n",
       "      <td>2</td>\n",
       "      <td>1360.jpg</td>\n",
       "      <td>Sev NPDR</td>\n",
       "    </tr>\n",
       "    <tr>\n",
       "      <td>3</td>\n",
       "      <td>1361.jpg</td>\n",
       "      <td>Sev NPDR</td>\n",
       "    </tr>\n",
       "    <tr>\n",
       "      <td>4</td>\n",
       "      <td>1362.jpg</td>\n",
       "      <td>Sev NPDR</td>\n",
       "    </tr>\n",
       "  </tbody>\n",
       "</table>\n",
       "</div>"
      ],
      "text/plain": [
       "  Image Name Retinopathy grade\n",
       "0   1358.jpg          Sev NPDR\n",
       "1   1359.jpg          Sev NPDR\n",
       "2   1360.jpg          Sev NPDR\n",
       "3   1361.jpg          Sev NPDR\n",
       "4   1362.jpg          Sev NPDR"
      ]
     },
     "execution_count": 21,
     "metadata": {},
     "output_type": "execute_result"
    }
   ],
   "source": [
    "file = pd.read_csv('Sev NPDR.csv')\n",
    "file.head()"
   ]
  },
  {
   "cell_type": "code",
   "execution_count": null,
   "metadata": {},
   "outputs": [],
   "source": []
  }
 ],
 "metadata": {
  "kernelspec": {
   "display_name": "Python 3",
   "language": "python",
   "name": "python3"
  },
  "language_info": {
   "codemirror_mode": {
    "name": "ipython",
    "version": 3
   },
   "file_extension": ".py",
   "mimetype": "text/x-python",
   "name": "python",
   "nbconvert_exporter": "python",
   "pygments_lexer": "ipython3",
   "version": "3.7.4"
  }
 },
 "nbformat": 4,
 "nbformat_minor": 2
}
