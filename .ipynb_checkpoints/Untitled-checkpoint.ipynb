{
 "cells": [
  {
   "cell_type": "code",
   "execution_count": 1,
   "metadata": {},
   "outputs": [],
   "source": [
    "import pandas as pd\n",
    "import sklearn\n",
    "import numpy as np"
   ]
  },
  {
   "cell_type": "code",
   "execution_count": 11,
   "metadata": {},
   "outputs": [
    {
     "data": {
      "text/html": [
       "<div>\n",
       "<style scoped>\n",
       "    .dataframe tbody tr th:only-of-type {\n",
       "        vertical-align: middle;\n",
       "    }\n",
       "\n",
       "    .dataframe tbody tr th {\n",
       "        vertical-align: top;\n",
       "    }\n",
       "\n",
       "    .dataframe thead th {\n",
       "        text-align: right;\n",
       "    }\n",
       "</style>\n",
       "<table border=\"1\" class=\"dataframe\">\n",
       "  <thead>\n",
       "    <tr style=\"text-align: right;\">\n",
       "      <th></th>\n",
       "      <th>Image name</th>\n",
       "      <th>Retinopathy grade</th>\n",
       "      <th>Risk of macular edema</th>\n",
       "    </tr>\n",
       "  </thead>\n",
       "  <tbody>\n",
       "    <tr>\n",
       "      <td>0</td>\n",
       "      <td>IDRiD_001</td>\n",
       "      <td>3</td>\n",
       "      <td>2</td>\n",
       "    </tr>\n",
       "    <tr>\n",
       "      <td>1</td>\n",
       "      <td>IDRiD_002</td>\n",
       "      <td>3</td>\n",
       "      <td>2</td>\n",
       "    </tr>\n",
       "    <tr>\n",
       "      <td>2</td>\n",
       "      <td>IDRiD_003</td>\n",
       "      <td>2</td>\n",
       "      <td>2</td>\n",
       "    </tr>\n",
       "    <tr>\n",
       "      <td>3</td>\n",
       "      <td>IDRiD_004</td>\n",
       "      <td>3</td>\n",
       "      <td>2</td>\n",
       "    </tr>\n",
       "    <tr>\n",
       "      <td>4</td>\n",
       "      <td>IDRiD_005</td>\n",
       "      <td>4</td>\n",
       "      <td>0</td>\n",
       "    </tr>\n",
       "  </tbody>\n",
       "</table>\n",
       "</div>"
      ],
      "text/plain": [
       "  Image name  Retinopathy grade  Risk of macular edema \n",
       "0  IDRiD_001                  3                       2\n",
       "1  IDRiD_002                  3                       2\n",
       "2  IDRiD_003                  2                       2\n",
       "3  IDRiD_004                  3                       2\n",
       "4  IDRiD_005                  4                       0"
      ]
     },
     "execution_count": 11,
     "metadata": {},
     "output_type": "execute_result"
    }
   ],
   "source": [
    "train = pd.read_csv('groundtruths/a. IDRiD_Disease Grading_Training Labels.csv',usecols=['Image name','Retinopathy grade','Risk of macular edema '])\n",
    "train.head()"
   ]
  },
  {
   "cell_type": "code",
   "execution_count": 45,
   "metadata": {},
   "outputs": [
    {
     "data": {
      "text/html": [
       "<div>\n",
       "<style scoped>\n",
       "    .dataframe tbody tr th:only-of-type {\n",
       "        vertical-align: middle;\n",
       "    }\n",
       "\n",
       "    .dataframe tbody tr th {\n",
       "        vertical-align: top;\n",
       "    }\n",
       "\n",
       "    .dataframe thead th {\n",
       "        text-align: right;\n",
       "    }\n",
       "</style>\n",
       "<table border=\"1\" class=\"dataframe\">\n",
       "  <thead>\n",
       "    <tr style=\"text-align: right;\">\n",
       "      <th></th>\n",
       "      <th>Image name</th>\n",
       "      <th>Retinopathy grade</th>\n",
       "      <th>Risk of macular edema</th>\n",
       "    </tr>\n",
       "  </thead>\n",
       "  <tbody>\n",
       "    <tr>\n",
       "      <td>0</td>\n",
       "      <td>IDRiD_001</td>\n",
       "      <td>4</td>\n",
       "      <td>0</td>\n",
       "    </tr>\n",
       "    <tr>\n",
       "      <td>1</td>\n",
       "      <td>IDRiD_002</td>\n",
       "      <td>4</td>\n",
       "      <td>1</td>\n",
       "    </tr>\n",
       "    <tr>\n",
       "      <td>2</td>\n",
       "      <td>IDRiD_003</td>\n",
       "      <td>4</td>\n",
       "      <td>0</td>\n",
       "    </tr>\n",
       "    <tr>\n",
       "      <td>3</td>\n",
       "      <td>IDRiD_004</td>\n",
       "      <td>4</td>\n",
       "      <td>0</td>\n",
       "    </tr>\n",
       "    <tr>\n",
       "      <td>4</td>\n",
       "      <td>IDRiD_005</td>\n",
       "      <td>4</td>\n",
       "      <td>1</td>\n",
       "    </tr>\n",
       "  </tbody>\n",
       "</table>\n",
       "</div>"
      ],
      "text/plain": [
       "  Image name  Retinopathy grade  Risk of macular edema \n",
       "0  IDRiD_001                  4                       0\n",
       "1  IDRiD_002                  4                       1\n",
       "2  IDRiD_003                  4                       0\n",
       "3  IDRiD_004                  4                       0\n",
       "4  IDRiD_005                  4                       1"
      ]
     },
     "execution_count": 45,
     "metadata": {},
     "output_type": "execute_result"
    }
   ],
   "source": [
    "test = pd.read_csv('groundtruths/b. IDRiD_Disease Grading_Testing Labels.csv',usecols=['Image name','Retinopathy grade','Risk of macular edema '])\n",
    "test.head()"
   ]
  },
  {
   "cell_type": "code",
   "execution_count": 16,
   "metadata": {},
   "outputs": [
    {
     "data": {
      "text/plain": [
       "array([3, 2, 4, 1, 0], dtype=int64)"
      ]
     },
     "execution_count": 16,
     "metadata": {},
     "output_type": "execute_result"
    }
   ],
   "source": [
    "train['Retinopathy grade'].unique()"
   ]
  },
  {
   "cell_type": "code",
   "execution_count": 17,
   "metadata": {},
   "outputs": [
    {
     "data": {
      "text/plain": [
       "array([2, 0, 1], dtype=int64)"
      ]
     },
     "execution_count": 17,
     "metadata": {},
     "output_type": "execute_result"
    }
   ],
   "source": [
    "train['Risk of macular edema '].unique()"
   ]
  },
  {
   "cell_type": "code",
   "execution_count": 18,
   "metadata": {},
   "outputs": [],
   "source": [
    "# R0 No disease\n",
    "# R1 Mild background DR Including microaneurysms, flame exudates\n",
    "# R2 Moderate background DR\n",
    "# R3 Severe non-proliferative or pre-proliferative DR\n",
    "# R4 Proliferative retinopathy NVD, NVE, vitreous haemorrhage, retinal detachment"
   ]
  },
  {
   "cell_type": "code",
   "execution_count": 46,
   "metadata": {},
   "outputs": [
    {
     "name": "stdout",
     "output_type": "stream",
     "text": [
      "Done\n",
      "Done\n",
      "Done\n",
      "Done\n",
      "Done\n"
     ]
    }
   ],
   "source": [
    "import os\n",
    "import shutil\n",
    "\n",
    "zero_image = list(test[test['Retinopathy grade'] == 0]['Image name'])\n",
    "first_image = list(test[test['Retinopathy grade'] == 1]['Image name'])\n",
    "second_image = list(test[test['Retinopathy grade'] == 2]['Image name'])\n",
    "third_image = list(test[test['Retinopathy grade'] == 3]['Image name'])\n",
    "fourth_image = list(test[test['Retinopathy grade'] == 4]['Image name'])\n",
    "\n",
    "images = os.listdir('original images/testing set')\n",
    "source = 'original images/testing set/'\n",
    "\n",
    "for image in images:\n",
    "    if image.split('.')[0] in zero_image:\n",
    "        shutil.move(source+image, 'original images/testing set/0')\n",
    "    elif image.split('.')[0] in first_image:\n",
    "        shutil.move(source+image, 'original images/testing set/1')\n",
    "    elif image.split('.')[0] in second_image:\n",
    "        shutil.move(source+image, 'original images/testing set/2')\n",
    "    elif image.split('.')[0] in third_image:\n",
    "        shutil.move(source+image, 'original images/testing set/3')\n",
    "    elif image.split('.')[0] in fourth_image:\n",
    "        shutil.move(source+image, 'original images/testing set/4')\n",
    "    else:"
   ]
  },
  {
   "cell_type": "code",
   "execution_count": null,
   "metadata": {},
   "outputs": [],
   "source": [
    "import os\n",
    "import shutil\n",
    "\n",
    "zero_image = list(test[test['Retinopathy grade'] == 0]['Image name'])\n",
    "first_image = list(test[test['Retinopathy grade'] == 1]['Image name'])\n",
    "second_image = list(test[test['Retinopathy grade'] == 2]['Image name'])\n",
    "third_image = list(test[test['Retinopathy grade'] == 3]['Image name'])\n",
    "fourth_image = list(test[test['Retinopathy grade'] == 4]['Image name'])\n",
    "\n",
    "images = os.listdir('original images/testing set')\n",
    "source = 'original images/testing set/'\n",
    "\n",
    "for image in images:\n",
    "    if image.split('.')[0] in zero_image:\n",
    "        shutil.move(source+image, 'original images/testing set/0')\n",
    "    elif image.split('.')[0] in first_image:\n",
    "        shutil.move(source+image, 'original images/testing set/1')\n",
    "    elif image.split('.')[0] in second_image:\n",
    "        shutil.move(source+image, 'original images/testing set/2')\n",
    "    elif image.split('.')[0] in third_image:\n",
    "        shutil.move(source+image, 'original images/testing set/3')\n",
    "    elif image.split('.')[0] in fourth_image:\n",
    "        shutil.move(source+image, 'original images/testing set/4')\n",
    "    else:"
   ]
  },
  {
   "cell_type": "code",
   "execution_count": null,
   "metadata": {},
   "outputs": [],
   "source": [
    "HEIGHT = 224\n",
    "WIDTH = 224\n",
    "NUM_CHANNELS = 3\n",
    "BATCH_SIZE = 128"
   ]
  },
  {
   "cell_type": "code",
   "execution_count": null,
   "metadata": {},
   "outputs": [],
   "source": []
  }
 ],
 "metadata": {
  "kernelspec": {
   "display_name": "Python 3",
   "language": "python",
   "name": "python3"
  },
  "language_info": {
   "codemirror_mode": {
    "name": "ipython",
    "version": 3
   },
   "file_extension": ".py",
   "mimetype": "text/x-python",
   "name": "python",
   "nbconvert_exporter": "python",
   "pygments_lexer": "ipython3",
   "version": "3.7.4"
  }
 },
 "nbformat": 4,
 "nbformat_minor": 2
}
